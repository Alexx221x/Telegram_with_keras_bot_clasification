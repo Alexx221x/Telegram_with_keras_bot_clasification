import logging
import telegram
from telegram.error import NetworkError, Unauthorized
from time import sleep
import requests
import socks,socket
import requests
from threading import Thread
from pathlib import Path
import os.path
import numpy
from keras.datasets import cifar10
from keras.models import Sequential
from keras.models import load_model
from keras.preprocessing.image import load_img
from keras.preprocessing import image
import numpy as np

model = Sequential()
model = load_model('dogs_vs_cats.h5')
#socks.setdefaultproxy(socks.PROXY_TYPE_HTTP,'address', 'port')
#socket.socket = socks.socksocket

token = 'TOKEN'
def main():
    """Run the bot."""
    global update_id
    # Telegram Bot Authorization Token
    bot = telegram.Bot(token)

    # get the first pending update_id, this is so we can skip over it in case
    # we get an "Unauthorized" exception.
    try:
        update_id = bot.get_updates()[0].update_id
    except IndexError:
        update_id = None

    logging.basicConfig(format='%(asctime)s - %(name)s - %(levelname)s - %(message)s')

    while True:
        try:
            echo(bot)
        except NetworkError:
            sleep(1)
        except Unauthorized:
            # The user has removed or blocked the bot.
            update_id += 1


def echo(bot):
    """Echo the message the user sent."""
    global update_id
    # Request updates after the last update_id
    for update in bot.get_updates(offset=update_id, timeout=10):
        update_id = update.update_id + 1
        if update.message.text=='q':
            update.message.reply_text('f12')
        elif update.message:  # your bot can receive updates without messages
            # Reply to the message
            update.message.reply_text('Hi! Send me some photo!')
        print(update.message)
        if len(update.message.photo)!=0:
         print(1)
         ids = update.message['photo'][0]['file_id']
         print(ids)#['photo'])#['file_id'])#['photo'])
         path_id = f'https://api.telegram.org/bot{token}/getFile?file_id={ids}'.format(token, ids)
         print(path_id)
         d = requests.post(path_id)
         print(d)
    
         print(path_id)
        
         d = requests.get(path_id).json()
         print(d['result']['file_path'])
         file_path = d['result']['file_path']
         path_download = f'https://api.telegram.org/file/bot{token}/{file_path}'.format(token, file_path)
         print(path_download)
         global uft
         ufr = (requests.get(path_download))
         i = 0
         df = f'C:\\Users\\User\\Desktop\\f{i}.jpg'.format(i)
         print(ufr)
         for i in range(1, 100000):
                         df = f'C:\\Users\\User\\f{i}.jpg'.format(i)
                        
                         if os.path.isfile(df):
                            pass
                         else:  
                            
                            f=open(df,"wb")
                            f.write(ufr.content) 
                            f.close()
                            print('-----------------------------------------------------------------------------')
                            print(df)
                            break
         img = load_img(df, target_size=(70,70))
         img = image.img_to_array(img)
         img = img.astype('float32')
         img = img/255
         img = np.expand_dims(img, axis=0)
         answer = model.predict_classes(img)[0][0]
         if answer==1:
            update.message.reply_text('Dog')
         else:
            update.message.reply_text('Cat')

if __name__ == '__main__':
    main()
